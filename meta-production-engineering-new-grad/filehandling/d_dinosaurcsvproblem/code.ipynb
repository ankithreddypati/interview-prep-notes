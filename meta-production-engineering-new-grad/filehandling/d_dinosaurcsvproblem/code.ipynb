{
 "cells": [
  {
   "cell_type": "markdown",
   "id": "75d3a78d",
   "metadata": {},
   "source": [
    "you are given two CSV files:\n",
    "File 1: Contains dinosaur names, leg lengths, and diets.\n",
    "File 2: Contains dinosaur names, stride lengths, and stances you must use only bipedal dino \n",
    "conpute speed = formula\n",
    "print names of bipedal dino sorted by speed "
   ]
  },
  {
   "cell_type": "markdown",
   "id": "f6028065",
   "metadata": {},
   "source": [
    "\n",
    " Clarifying Questions\n",
    "1. Are the names consistent across both files? (watch for typos like \"Velociraptorr \" what should i do)\n",
    "2. What should we do if a dinosaur is in one file but not in the other? im thinking i would skip it \n",
    "3. Can I assume all numeric values are valid floats?\n"
   ]
  },
  {
   "cell_type": "markdown",
   "id": "91fcc0bd",
   "metadata": {},
   "source": [
    " my initial approach is to scan dataset2.csv and collect all bipedal dinosaur names into a list. Then I would scan dataset1.csv again and for each bipedal name, look up the corresponding leg length. But that results in O(m+nxk+klogk) time complexity because each lookup becomes a linear search. and space would be o(k)\n",
    "\n",
    " To optimize that, I realized I can load dataset1.csv into a dictionary mapping NAME → LEG_LENGTH. That gives me O(1) lookup for each name when I go through the bipedal entries in dataset2.csv. Now I can compute speeds in O(n) and sort them in O(k log k) where k is the number of bipedal dinosaurs"
   ]
  },
  {
   "cell_type": "markdown",
   "id": "28157a6e",
   "metadata": {},
   "source": [
    "Time Complexity: O(n + m + k log k), Space Complexity: O(n + k)\n",
    "Where n = entries in dataset1, m = entries in dataset2, k = bipedal dinosaurs."
   ]
  },
  {
   "cell_type": "markdown",
   "id": "7bf95573",
   "metadata": {},
   "source": [
    "We read dataset1.csv once to build a dictionary of leg lengths, which takes O(n) time and space. Then, we read dataset2.csv to filter only bipedal dinosaurs and compute their speed if their name exists in the dictionary — this takes O(m) time. For each of the k bipedal dinosaurs, we compute speed in O(1) time and store the result, which adds O(k) space. Finally, we sort the k results by speed, which takes O(k log k) time. Hence, the overall time complexity is O(n + m + k log k) and space complexity is O(n + k)"
   ]
  },
  {
   "cell_type": "code",
   "execution_count": null,
   "id": "c8762b74",
   "metadata": {},
   "outputs": [
    {
     "name": "stdout",
     "output_type": "stream",
     "text": [
      "Struthiomimus\n",
      "Hadrosaurus\n",
      "Tyrannosaurus Rex\n"
     ]
    }
   ],
   "source": [
    "import csv          # For reading CSV files\n",
    "import math         # For square root and math operations\n",
    "\n",
    "# Step 1: Read dataset1.csv and store leg lengths in a dictionary\n",
    "leg_lengths = {}  # Dictionary: NAME → LEG_LENGTH\n",
    "with open('dataset1.csv') as f:\n",
    "    reader = csv.DictReader(f)       \n",
    "    for row in reader:\n",
    "        name = row['NAME'].strip()                 # Remove whitespace from name\n",
    "        leg_lengths[name] = float(row['LEG_LENGTH'])  # Store leg length as float\n",
    "        \n",
    "    # reader = csv.reader(f)\n",
    "    # header = next(reader)\n",
    "    # for row in reader:\n",
    "    #     name = row[0]  # must remember index\n",
    "\n",
    "\n",
    "# Step 2: Read dataset2.csv and compute speed for bipedal dinosaurs\n",
    "speeds = []  # List of tuples: (speed, NAME), (speed,name2)\n",
    "with open('dataset2.csv') as f:\n",
    "    reader = csv.DictReader(f)\n",
    "    for row in reader:\n",
    "        name = row['NAME'].strip()                        # Clean up name\n",
    "        stance = row['STANCE'].strip().lower()            # Normalize stance\n",
    "        if stance == 'bipedal' and name in leg_lengths:   # Check if bipedal and present in dataset1\n",
    "            stride = float(row['STRIDE_LENGTH'])          # Get stride length\n",
    "            leg = leg_lengths[name]                       # Get leg length from dict\n",
    "            speed = ((stride / leg) - 1) * math.sqrt(leg * 9.8)  # Compute speed\n",
    "            speeds.append((speed, name))                  # Store result\n",
    "\n",
    "# Step 3: Sort the list of speeds in descending order (fastest first)\n",
    "speeds.sort(reverse=True)  # Sort by speed descending\n",
    "\n",
    "# Step 4: Print only the dinosaur names in order\n",
    "for _, name in speeds:\n",
    "    print(name)\n"
   ]
  }
 ],
 "metadata": {
  "kernelspec": {
   "display_name": "base",
   "language": "python",
   "name": "python3"
  },
  "language_info": {
   "codemirror_mode": {
    "name": "ipython",
    "version": 3
   },
   "file_extension": ".py",
   "mimetype": "text/x-python",
   "name": "python",
   "nbconvert_exporter": "python",
   "pygments_lexer": "ipython3",
   "version": "3.12.9"
  }
 },
 "nbformat": 4,
 "nbformat_minor": 5
}
