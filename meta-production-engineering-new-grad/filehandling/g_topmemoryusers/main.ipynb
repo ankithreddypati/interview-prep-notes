{
 "cells": [
  {
   "cell_type": "markdown",
   "metadata": {},
   "source": [
    "intital approach would be\n",
    "\n",
    "\" i will use a list to collect all users with memory usage over 1000 MB, then sorting the list to get the top 3.  that takes O(N +k log k(sort)) time and O(k) space, where k is the number of matching users. Instead, I can with min-heap of size 3 to keep only the top 3 users as I read the file. This reduces the time to O(n + 3 log 3(sort)) and space to O(n), since the heap never stores more than 3 elements. So both time and space are better with the heap, especially for large log files\n"
   ]
  },
  {
   "cell_type": "code",
   "execution_count": null,
   "metadata": {},
   "outputs": [
    {
     "name": "stdout",
     "output_type": "stream",
     "text": [
      "user234 1502.7\n",
      "user678 1380.1\n",
      "user456 1245.3\n"
     ]
    }
   ],
   "source": [
    "# native approach dont show # Initialize empty list to store users with high memory usage\n",
    "high_memory_users = []\n",
    "\n",
    "# Open and read the log file\n",
    "with open('resources_usage.log', 'r') as file:\n",
    "    # Process each line in the file\n",
    "    for line in file:\n",
    "        # Split the line into columns\n",
    "        columns = line.strip().split()\n",
    "        \n",
    "        # Extract the user ID and memory usage\n",
    "        user_id = columns[1]\n",
    "        memory_usage = float(columns[4])\n",
    "        \n",
    "        # Check if memory usage exceeds 1000 MB\n",
    "        if memory_usage > 1000:\n",
    "            # Add to our list\n",
    "            high_memory_users.append([user_id, memory_usage])\n",
    "\n",
    "# Sort users by memory usage in descending order\n",
    "high_memory_users.sort(key=lambda x: x[1], reverse=True)\n",
    "\n",
    "# Get the top 3 users\n",
    "top_users = high_memory_users[:3]\n",
    "\n",
    "# Display the results\n",
    "for user in top_users:\n",
    "    print(user[0], user[1])"
   ]
  },
  {
   "cell_type": "markdown",
   "metadata": {},
   "source": [
    "my approach \n",
    "\n",
    "1. For each line, if memory > 1000, I push it into the heap.\n",
    "2. If the heap exceeds 3, I remove the smallest.\n",
    "3. This way, I always maintain the top 3 users efficiently."
   ]
  },
  {
   "cell_type": "markdown",
   "metadata": {},
   "source": [
    "heap is like a special tree where the smallest in min heap and largest in max heap is always at the top , When you add or remove items, the heap automatically reorganizes to maintain this property"
   ]
  },
  {
   "cell_type": "markdown",
   "metadata": {},
   "source": [
    "\"Use a min-heap of size 3 to efficiently keep track of the top 3 memory consumers without sorting the entire list.\n",
    "Sorting all entries → O(k log k)\n",
    "Heap approach → Time: O(n log 3) → effectively O(n)\n",
    "Space: O(3) → which is O(1) since the heap size is fixed and constant.\"\n"
   ]
  },
  {
   "cell_type": "code",
   "execution_count": null,
   "metadata": {},
   "outputs": [
    {
     "name": "stdout",
     "output_type": "stream",
     "text": [
      "\n",
      "Top 3 Users by Memory Usage:\n",
      "user234: 1502.7 MB\n",
      "user678: 1380.1 MB\n",
      "user456: 1245.3 MB\n"
     ]
    }
   ],
   "source": [
    "import heapq  # Python’s built-in heap module (min-heap by default)\n",
    "\n",
    "top_heap = []  # Will store (memory_usage, user_id) tuple pairs, keeping only top 3 users\n",
    "\n",
    "with open(\"resources_usage.log\", 'r') as f:  # Open the log file for reading\n",
    "    for line in f:  # Iterate through each line in the file\n",
    "        parts = line.strip().split()  # Remove newline/extra spaces and split into parts\n",
    "\n",
    "        #edgecase \n",
    "        if len(parts) != 5:  # Ensure the line has exactly 5 expected fields\n",
    "            continue  # Skip malformed lines\n",
    "\n",
    "        user_id = parts[1]  # Extract the User ID (2nd field)\n",
    "        try:\n",
    "            memory_usage = float(parts[4])  # Convert Memory Usage (5th field) to float\n",
    "        except ValueError:\n",
    "            continue  # Skip lines where memory usage is not a valid number\n",
    "\n",
    "        if memory_usage > 1000:  # Only process users consuming over 1000MB\n",
    "            heapq.heappush(top_heap, (memory_usage, user_id))  # Push to min-heap we have to put mem first because that what it uses to sort\n",
    "            if len(top_heap) > 3:\n",
    "                heapq.heappop(top_heap)  # If more than 3, remove the smallest\n",
    "\n",
    "# Sort final heap in descending order to print top 3 users (max → min)\n",
    "top_users = sorted(top_heap, reverse=True)\n",
    "\n",
    "# Output the results\n",
    "print(\"\\nTop 3 Users by Memory Usage:\")\n",
    "for mem, user in top_users:\n",
    "    print(f\"{user}: {mem} MB\")\n"
   ]
  },
  {
   "cell_type": "markdown",
   "metadata": {},
   "source": []
  }
 ],
 "metadata": {
  "kernelspec": {
   "display_name": "base",
   "language": "python",
   "name": "python3"
  },
  "language_info": {
   "codemirror_mode": {
    "name": "ipython",
    "version": 3
   },
   "file_extension": ".py",
   "mimetype": "text/x-python",
   "name": "python",
   "nbconvert_exporter": "python",
   "pygments_lexer": "ipython3",
   "version": "3.12.9"
  }
 },
 "nbformat": 4,
 "nbformat_minor": 2
}
