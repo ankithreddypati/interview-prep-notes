{
 "cells": [
  {
   "cell_type": "markdown",
   "id": "c14a7c1e",
   "metadata": {},
   "source": [
    "✅ Problem Summary\n",
    "Input: Log file at /home/admin/access.log, each line starts with an IP address.\n",
    "Task: Find the IP address with the most requests (i.e., most occurrences).\n",
    "Output: Write the result (just the IP) into /home/admin/highestip.txt.\n",
    "Assumption: Only one IP has the highest count (no tie)."
   ]
  },
  {
   "cell_type": "markdown",
   "id": "5117ea23",
   "metadata": {},
   "source": [
    "Approach\n",
    "1. Read the file line by line to avoid memory issues.\n",
    "2.Extract the IP address (first token on each line).\n",
    "3.Use a dictionary (dict) to count occurrences.\n",
    "4.Find the key with the max value.\n",
    "5.Write that IP to the output file."
   ]
  },
  {
   "cell_type": "markdown",
   "id": "f781859f",
   "metadata": {},
   "source": [
    " Time & Space Complexity\n",
    "Time: O(n), where n is number of lines in the log\n",
    "Space: O(u), where u is number of unique IPs"
   ]
  },
  {
   "cell_type": "code",
   "execution_count": null,
   "id": "975481f8",
   "metadata": {},
   "outputs": [],
   "source": [
    "ip_counts = {}  # Regular dictionary to count IP occurrences  '192.168.1.1': 2,\n",
    "\n",
    "# Step 1: Open the log file safely\n",
    "with open('/home/admin/access.log') as f:\n",
    "    for line in f:\n",
    "        # Strip whitespace and skip completely empty lines\n",
    "        line = line.strip()\n",
    "        if not line:\n",
    "            continue  # skip blank line\n",
    "\n",
    "        # Split the line into parts (assuming IP is the first part)\n",
    "        parts = line.split()\n",
    "        if len(parts) < 1:\n",
    "            continue  # skip malformed line\n",
    "\n",
    "        ip = parts[0]  # Extract the IP address\n",
    "\n",
    "        # Count the IP\n",
    "        if ip in ip_counts:\n",
    "            ip_counts[ip] += 1\n",
    "        else:\n",
    "            ip_counts[ip] = 1\n",
    "\n",
    "# Step 2: Find the IP with the highest count (no tie per problem)\n",
    "if ip_counts:  # ensure dictionary is not empty\n",
    "    most_requested_ip = max(ip_counts.items(), key=lambda x: x[1])[0]\n",
    "\n",
    "    # Step 3: Write the result to the output file\n",
    "    with open('/home/admin/highestip.txt', 'w') as out:\n",
    "        out.write(most_requested_ip + '\\n')\n"
   ]
  }
 ],
 "metadata": {
  "kernelspec": {
   "display_name": "base",
   "language": "python",
   "name": "python3"
  },
  "language_info": {
   "name": "python",
   "version": "3.12.9"
  }
 },
 "nbformat": 4,
 "nbformat_minor": 5
}
