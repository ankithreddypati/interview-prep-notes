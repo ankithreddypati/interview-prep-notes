{
 "cells": [
  {
   "cell_type": "markdown",
   "id": "b0b0a3d3",
   "metadata": {},
   "source": [
    "# 1.Write a script that connects to 100 hosts, looks for a particular process and sends an email with a report\n"
   ]
  },
  {
   "cell_type": "markdown",
   "id": "3ee7b085",
   "metadata": {},
   "source": [
    "clarifying questions\n",
    "1. how do we authenticate (SSH key or password)\n",
    "2. what process are we searching for ? like do we have a process name, id so i can do px aux | grep processname or pid\n",
    "or lsof -i :PORT, \n",
    "1.  i assume to use SMTP to send mail directly "
   ]
  },
  {
   "cell_type": "markdown",
   "id": "c194d442",
   "metadata": {},
   "source": [
    "Approach 1 if SSH+ grep for process + SMTP email:\n",
    "i would write a python script using paramiko(sshclient + shell commands) or asyncssh+asyncio\n",
    "search with pgrep or ps aux | processname\n",
    "collect output , format summary and email via SMTP"
   ]
  },
  {
   "cell_type": "code",
   "execution_count": null,
   "id": "51b23303",
   "metadata": {},
   "outputs": [],
   "source": [
    "import paramiko  # for SSH connection\n",
    "import smtplib  # for sending email via SMTP\n",
    "# from email.mime.text import MIMEText  # to format email body\n",
    "\n",
    "# List of remote hosts to connect to\n",
    "hosts = [\"example.com\", \"example2.com\"]\n",
    "process_name = \"node\"\n",
    "username = \"ubuntu\"\n",
    "keyfile = \"id_rsa\"\n",
    "\n",
    "# List to store result tuples: (host, status, message)\n",
    "results = []\n",
    "\n",
    "# SSH and check process on each host\n",
    "def check_process(host):\n",
    "    try:\n",
    "        ssh = paramiko.SSHClient()\n",
    "        ssh.connect(host, username=username, key_filename=keyfile, timeout=5)\n",
    "\n",
    "        # Run shell command to check process\n",
    "        stdin, stdout, stderr = ssh.exec_command(f\"ps aux | grep {process_name} | grep -v grep\")\n",
    "        output = stdout.read().decode().strip()\n",
    "\n",
    "        if output:\n",
    "            results.append((host, \"FOUND\", output))\n",
    "        else:\n",
    "            results.append((host, \"NOT_FOUND\", \"\"))\n",
    "\n",
    "        ssh.close()\n",
    "\n",
    "    except Exception as e:\n",
    "        results.append((host, \"ERROR\", str(e)))\n",
    "\n",
    "# Run the check on each host\n",
    "for host in hosts:\n",
    "    check_process(host)\n",
    "\n",
    "# Categorize results\n",
    "found = [f\"{h}: {msg}\" for h, status, msg in results if status == \"FOUND\"]\n",
    "not_found = [f\"{h}: Not Found\" for h, status, msg in results if status == \"NOT_FOUND\"]\n",
    "errors = [f\"{h}: ERROR - {msg}\" for h, status, msg in results if status == \"ERROR\"]\n",
    "\n",
    "# Build report string\n",
    "report = []\n",
    "report.append(f\"Process '{process_name}' found on {len(found)} host(s):\\n\" + \"\\n\".join(found))\n",
    "report.append(f\"\\nNot running on {len(not_found)} host(s):\\n\" + \"\\n\".join(not_found))\n",
    "report.append(f\"\\nErrors on {len(errors)} host(s):\\n\" + \"\\n\".join(errors))\n",
    "final_message = \"\\n\\n\".join(report)\n",
    "\n",
    "# Send email\n",
    "msg = MIMEText(final_message)\n",
    "msg[\"Subject\"] = f\"[Process Report] '{process_name}' across {len(hosts)} hosts\"\n",
    "msg[\"From\"] = \"alerts@example.com\"\n",
    "msg[\"To\"] = \"admin@example.com\"\n",
    "\n",
    "with smtplib.SMTP(\"smtp.example.com\", 587) as server:\n",
    "    server.starttls()\n",
    "    server.login(\"user\", \"pass\")\n",
    "    server.send_message(msg)\n"
   ]
  },
  {
   "cell_type": "markdown",
   "id": "1671221a",
   "metadata": {},
   "source": [
    "Process 'node' found on 1 host(s):\n",
    "example.com: ubuntu 1234 ... /usr/bin/node app.js\n",
    "\n",
    "Not running on 1 host(s):\n",
    "example2.com: Not Found\n",
    "\n",
    "Errors on 0 host(s):\n"
   ]
  },
  {
   "cell_type": "markdown",
   "id": "f44de3fd",
   "metadata": {},
   "source": [
    "The time and space complexity is O(N), where N is the number of hosts. For each host, I make one SSH connection, run a small process check, and store the result. At the end, I aggregate all results and send a single report. It’s efficient and works well up to a few hundred hosts — for thousands of hosts, I’d consider using threads or asyncio for concurrency\n",
    "\n",
    "we can \n",
    "If you use threads or asyncio, the time complexity remains O(N), but wall-clock time improves to approximately O(N / P),"
   ]
  },
  {
   "cell_type": "code",
   "execution_count": null,
   "id": "8561da71",
   "metadata": {},
   "outputs": [],
   "source": [
    "scenario 2: based on ssh thingy and process"
   ]
  }
 ],
 "metadata": {
  "kernelspec": {
   "display_name": "base",
   "language": "python",
   "name": "python3"
  },
  "language_info": {
   "name": "python",
   "version": "3.12.9"
  }
 },
 "nbformat": 4,
 "nbformat_minor": 5
}
