{
 "cells": [
  {
   "cell_type": "markdown",
   "id": "7ef0ffe2",
   "metadata": {},
   "source": [
    "Read a file from disk and count how many times each email address appears.\n",
    "\n"
   ]
  },
  {
   "cell_type": "markdown",
   "id": "215d6824",
   "metadata": {},
   "source": [
    "1. What is the format of the input file — one email per line, or embedded in text?\n",
    "2. Are the emails well-formed (e.g., user@example.com)? Should we validate them?\n",
    "3. Should the output be:Total count of all emails?Frequency per email address? Sorted by frequency?\n"
   ]
  },
  {
   "cell_type": "markdown",
   "id": "13fb6960",
   "metadata": {},
   "source": [
    "Approach \n",
    "Assuming emails are embedded in arbitrary text, I’ll use a regular expression to extract all email addresses. I’ll read the file line-by-line to keep memory usage low and use a dictionary (hashmap) to count frequency of each email.\n",
    "We use dict for O(1) insertion and lookup while counting.\n",
    "\n"
   ]
  },
  {
   "cell_type": "markdown",
   "id": "7410cd70",
   "metadata": {},
   "source": [
    " Time and Space Complexity\n",
    "Time: O(n × m)\n",
    "n = number of lines\n",
    "m = number of email matches per line (regex scan)\n",
    "\n",
    "Space: O(u)\n",
    "u = number of unique email addresses"
   ]
  },
  {
   "cell_type": "code",
   "execution_count": null,
   "id": "10d66241",
   "metadata": {},
   "outputs": [],
   "source": [
    "import re\n",
    "from collections import defaultdict\n",
    "\n",
    "# Step 1: Email pattern (basic one)\n",
    "email_pattern = re.compile(r'[a-zA-Z0-9._%+-]+@[a-zA-Z0-9.-]+\\.[a-zA-Z]{2,}')\n",
    "\n",
    "# Step 2: Dictionary to count frequency\n",
    "email_counts = defaultdict(int)\n",
    "\n",
    "# Step 3: Read file line by line\n",
    "with open('input.txt') as f:\n",
    "    for line in f:\n",
    "        # Step 4: Extract all emails in the current line\n",
    "        emails = email_pattern.findall(line)\n",
    "        for email in emails:\n",
    "            email_counts[email] += 1\n",
    "\n",
    "# Step 5: Print email frequencies\n",
    "for email, count in sorted(email_counts.items(), key=lambda x: -x[1]):\n",
    "    print(f\"{email}: {count}\")\n"
   ]
  },
  {
   "cell_type": "markdown",
   "id": "69c537f6",
   "metadata": {},
   "source": [
    "✅ Output Example\n",
    "If input.txt contains:\n",
    "\n",
    "Hi john.doe@example.com, please contact jane@abc.com. john.doe@example.com is repeated.\n",
    "\n",
    "Output:\n",
    "\n",
    "john.doe@example.com: 2\n",
    "jane@abc.com: 1"
   ]
  }
 ],
 "metadata": {
  "kernelspec": {
   "display_name": "base",
   "language": "python",
   "name": "python3"
  },
  "language_info": {
   "name": "python",
   "version": "3.12.9"
  }
 },
 "nbformat": 4,
 "nbformat_minor": 5
}
