{
 "cells": [
  {
   "cell_type": "markdown",
   "id": "5986d58f",
   "metadata": {},
   "source": [
    "“Read data from an API that returns structured JSON and arrange the data into a specific requested format."
   ]
  },
  {
   "cell_type": "markdown",
   "id": "637704c4",
   "metadata": {},
   "source": [
    "[\n",
    "  {\"name\": \"Alice\", \"department\": \"Engineering\"},\n",
    "  {\"name\": \"Bob\", \"department\": \"HR\"},\n",
    "  {\"name\": \"Charlie\", \"department\": \"Engineering\"},\n",
    "  {\"name\": \"David\", \"department\": \"Marketing\"}\n",
    "]\n"
   ]
  },
  {
   "cell_type": "code",
   "execution_count": null,
   "id": "1de8b3ce",
   "metadata": {},
   "outputs": [],
   "source": [
    "import requests # to make api call\n",
    "from collections import defaultdict\n",
    "\n",
    "def group_users_by_department(api_url):\n",
    "    try:\n",
    "        response = requests.get(api_url, timeout=5)\n",
    "        # response.raise_for_status()  # raises exception for 4xx/5xx\n",
    "        users = response.json()\n",
    "\n",
    "        department_map = defaultdict(list)\n",
    "\n",
    "        for user in users:\n",
    "            name = user.get(\"name\")\n",
    "            department = user.get(\"department\")\n",
    "            if name and department:\n",
    "                department_map[department].append(name)\n",
    "\n",
    "        return dict(department_map)\n",
    "\n",
    "    except requests.RequestException as e:\n",
    "        print(f\"Error fetching data: {e}\")\n",
    "        return {}\n",
    "    \n",
    "    \n",
    "api_url = \"https://example.com/api/users\"\n",
    "print(group_users_by_department(api_url))\n"
   ]
  }
 ],
 "metadata": {
  "kernelspec": {
   "display_name": "base",
   "language": "python",
   "name": "python3"
  },
  "language_info": {
   "name": "python",
   "version": "3.12.9"
  }
 },
 "nbformat": 4,
 "nbformat_minor": 5
}
