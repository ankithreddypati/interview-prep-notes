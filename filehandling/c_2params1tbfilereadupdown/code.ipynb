{
 "cells": [
  {
   "cell_type": "markdown",
   "id": "b30df47e",
   "metadata": {},
   "source": [
    "\"From a 1TB input file (piped via STDIN), each line containing a host:port pair, check connectivity for each pair and print host:port -> UP/DOWN efficiently"
   ]
  },
  {
   "cell_type": "markdown",
   "id": "ddcc0017",
   "metadata": {},
   "source": [
    "Clarifying Questions\n",
    "1. What is the format of each line? host:port? Are there headers?\n",
    "2. Are ports always numeric and valid (1–65535)?\n",
    "3. What is the definition of UP? Successful TCP connection? Ping? HTTP GET?\n",
    "4. Should the output be printed to stdout or written to a file?\n",
    "5. Is parallelism allowed? (e.g., using threading or async)\n",
    "6. Is there a limit on memory usage?"
   ]
  },
  {
   "cell_type": "markdown",
   "id": "2c4abaea",
   "metadata": {},
   "source": [
    "approach \n",
    "1. dont load i mean read() entire file into memory - we process line by line\n",
    "2. i will write a python script with  sys.stdin and socket lib i can test tcp connection\n",
    "3. Print results as you go to minimize memory\n",
    "   \n"
   ]
  },
  {
   "cell_type": "code",
   "execution_count": null,
   "id": "eabba1c6",
   "metadata": {},
   "outputs": [],
   "source": [
    "import sys  # for reading from standard input\n",
    "import socket  # for checking TCP connection\n",
    "\n",
    "# Go line by line from STDIN input\n",
    "for line in sys.stdin:\n",
    "    # Remove extra whitespace or newline characters\n",
    "    line = line.strip()\n",
    "\n",
    "    # Skip empty lines (if any)\n",
    "    if not line:\n",
    "        continue\n",
    "\n",
    "    # Expecting format \"host:port\"\n",
    "    if ':' not in line:\n",
    "        print(f\"{line} -> INVALID\")  # malformed input\n",
    "        continue\n",
    "\n",
    "    # Split line into host and port parts\n",
    "    host, port_str = line.split(':', 1)\n",
    "\n",
    "    try:\n",
    "        # Convert port from string to integer\n",
    "        port = int(port_str)\n",
    "\n",
    "        # Try to create a TCP connection to host:port with timeout\n",
    "        with socket.create_connection((host, port), timeout=2):\n",
    "            print(f\"{host}:{port} -> UP\")\n",
    "\n",
    "    except Exception:\n",
    "        # If connection fails or input is bad, mark as DOWN\n",
    "        print(f\"{host}:{port} -> DOWN\")\n",
    "\n",
    "\n",
    "i could do \n",
    "cat hosts.txt | python3 checkhosts.py > output.txt"
   ]
  },
  {
   "cell_type": "markdown",
   "id": "2d8c490f",
   "metadata": {},
   "source": [
    "Time and Space Complexity:\n",
    "\n",
    "Time: O(n) — One TCP check per line\n",
    "Space: O(1) — You do not store all lines in memory .No matter how big the file is (even 1TB), your memory usage does not grow with input size.\n"
   ]
  }
 ],
 "metadata": {
  "kernelspec": {
   "display_name": "base",
   "language": "python",
   "name": "python3"
  },
  "language_info": {
   "name": "python",
   "version": "3.12.9"
  }
 },
 "nbformat": 4,
 "nbformat_minor": 5
}
