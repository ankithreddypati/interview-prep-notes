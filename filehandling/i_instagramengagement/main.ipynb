{
 "cells": [
  {
   "cell_type": "markdown",
   "id": "b00a328c",
   "metadata": {},
   "source": [
    "You are given a CSV file containing Instagram post data with the following columns: username, post_id, likes, comments, and shares. Compute an engagement score for each post using the formula: engagementScore = (likes^1.2 + comments^1.3 + shares^1.4) / 3 Then, determine the top 10 posts with the highest scores and output these posts by displaying their post_id along with the computed engagement score, sorted in descending order."
   ]
  },
  {
   "cell_type": "markdown",
   "id": "b1eb0bf3",
   "metadata": {},
   "source": [
    "\n",
    " Clarifying Questions to Ask\n",
    "1. Are all fields guaranteed to be present and numeric?\n",
    "2. What to do with malformed lines or missing fields?\n",
    "3. Should we round the score or show full precision?\n"
   ]
  },
  {
   "cell_type": "markdown",
   "id": "98743bfc",
   "metadata": {},
   "source": [
    "my initial approach would be I would read all rows, compute scores for each, store as a list of (score, post_id), sort it descending, and return the top 10.\"\n",
    "Time: O(n log n) for sorting all posts\n",
    "Space: O(n)\n",
    "\n",
    "however i can make it more efficient using a heap ,I'd use a min-heap of size 10. As I read each row, I compute the score and push it into the heap. If heap size exceeds 10, I pop the smallest one. At the end, I sort the heap to get the top scores in descending order.\n",
    "time : O(nlogk)  n = total number of posts (lines in the CSV) k = size of the heap (in this case, 10)\n",
    "space: O(k)"
   ]
  },
  {
   "cell_type": "markdown",
   "id": "5d28cbcc",
   "metadata": {},
   "source": [
    "Approach:"
   ]
  },
  {
   "cell_type": "markdown",
   "id": "29110a58",
   "metadata": {},
   "source": [
    "1. For each line in the CSV, I parse the likes, comments, and shares, and compute the engagement score using the given formula.\n",
    "2.I push a tuple of (score, post_id) into a min-heap.\n",
    "3. If the heap exceeds size 10, I pop the smallest score.\n",
    "4.This way, the heap always contains the top 10 highest-scoring posts, efficiently maintained in O(log k) per insert.\n",
    "5. At the end, I sort the heap in descending order and print the top post IDs with their scores"
   ]
  },
  {
   "cell_type": "code",
   "execution_count": null,
   "id": "e99bdeb9",
   "metadata": {},
   "outputs": [],
   "source": [
    "import csv\n",
    "import heapq  # Min-heap for top K\n",
    "import math   # For power calculations\n",
    "\n",
    "# Function to calculate engagement score\n",
    "def compute_score(likes, comments, shares):\n",
    "    return (likes**1.2 + comments**1.3 + shares**1.4) / 3\n",
    "\n",
    "# Min-heap to track top 10 posts (smallest score at root)\n",
    "top_posts = []  # Each element will be (score, post_id)\n",
    "\n",
    "# Step 1: Open the CSV file\n",
    "with open('instagram_posts.csv', newline='') as f:\n",
    "    reader = csv.DictReader(f)\n",
    "\n",
    "    for row in reader:\n",
    "        try:\n",
    "            # Step 2: Extract post fields\n",
    "            post_id = row['post_id']\n",
    "            likes = float(row['likes'])\n",
    "            comments = float(row['comments'])\n",
    "            shares = float(row['shares'])\n",
    "\n",
    "            # Step 3: Validate non-negative values\n",
    "            if likes < 0 or comments < 0 or shares < 0:\n",
    "                continue  # skip invalid data\n",
    "\n",
    "            # Step 4: Compute engagement score\n",
    "            score = compute_score(likes, comments, shares)\n",
    "\n",
    "            # Step 5: Push to heap\n",
    "            heapq.heappush(top_posts, (score, post_id))\n",
    "\n",
    "            # Step 6: Keep heap size at most 10\n",
    "            if len(top_posts) > 10:\n",
    "                heapq.heappop(top_posts)\n",
    "\n",
    "        except (KeyError, ValueError):\n",
    "            # Handles missing fields or non-numeric data\n",
    "            continue\n",
    "\n",
    "# Step 7: Sort top 10 posts in descending order of score\n",
    "top_posts.sort(reverse=True)\n",
    "\n",
    "# Step 8: Display results\n",
    "print(\"Top 10 Posts by Engagement Score:\")\n",
    "for score, post_id in top_posts:\n",
    "    print(f\"{post_id}: {score:.4f}\")\n"
   ]
  }
 ],
 "metadata": {
  "kernelspec": {
   "display_name": "base",
   "language": "python",
   "name": "python3"
  },
  "language_info": {
   "name": "python",
   "version": "3.12.9"
  }
 },
 "nbformat": 4,
 "nbformat_minor": 5
}
